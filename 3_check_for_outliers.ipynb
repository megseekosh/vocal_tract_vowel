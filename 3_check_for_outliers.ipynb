{
 "cells": [
  {
   "cell_type": "markdown",
   "metadata": {},
   "source": [
    "# Check for outliers\n",
    "Plot some histograms to identify outliers on a by-participant and by-age group basis to determine if we should retrack formants with a different LPC order. "
   ]
  },
  {
   "cell_type": "code",
   "execution_count": null,
   "metadata": {},
   "outputs": [],
   "source": [
    "from espspy.readers import EspsFormantReader\n",
    "import os, sys, fnmatch\n",
    "from audiolabel import read_label\n",
    "import re\n",
    "import pandas as pd\n",
    "from sys import argv\n",
    "from phonlab.utils import dir2df\n",
    "import numpy as np\n",
    "import seaborn as sns\n",
    "import matplotlib.pyplot as plt"
   ]
  },
  {
   "cell_type": "code",
   "execution_count": null,
   "metadata": {},
   "outputs": [],
   "source": [
    "# read formant measurements in\n",
    "\n",
    "allages = pd.read_csv('med_formants_2018.csv') # all formants from all speakers\n",
    "lpc8 = pd.read_csv('med_formants_lpcorder_8.csv') # F1 & F2 where lpc order = 8 for 4-6 y/os"
   ]
  },
  {
   "cell_type": "markdown",
   "metadata": {},
   "source": [
    "### Plot individual adults"
   ]
  },
  {
   "cell_type": "code",
   "execution_count": null,
   "metadata": {},
   "outputs": [],
   "source": [
    "# for adult plots (includes F4)\n",
    "# lots of mis-classified F2\n",
    "\n",
    "adult_spkrs = allages.loc[(allages.age_yrs=='adult')]\n",
    "\n",
    "for adult in adult_spkrs.spkr.unique():\n",
    "    \n",
    "    print(adult)\n",
    "        \n",
    "    sub_df = adult_spkrs.loc[(adult_spkrs.spkr==adult)]  # select speaker\n",
    "    \n",
    "    plt.figure(adult)\n",
    "        \n",
    "    ax2 = sns.distplot(sub_df[\"f1_midpt_med\"], hist = False, kde = True, kde_kws = {'shade': True, 'linewidth': 3})\n",
    "    sns.distplot(sub_df[\"f2_midpt_med\"], hist = False, kde = True, kde_kws = {'shade': True, 'linewidth': 3},ax=ax2)\n",
    "    sns.distplot(sub_df[\"f3_midpt_med\"], hist = False, kde = True, kde_kws = {'shade': True, 'linewidth': 3},ax=ax2)\n",
    "    sns.distplot(sub_df[\"f4_midpt_med\"], hist = False, kde = True, kde_kws = {'shade': True, 'linewidth': 3},ax=ax2)\n",
    "    \n",
    "    ax2.set(xlabel='Formant frequency (Hz)', ylabel='Probability density')\n",
    "    ax2.text(350,0.001,\"F1\")\n",
    "    ax2.text(1200,0.0003,\"F2\")\n",
    "    ax2.text(2300,0.0004,\"F3\")\n",
    "    ax2.text(3500,0.00075,\"F4\")\n",
    "    ax2.text(3800,0.0028,adult,fontsize=22)\n",
    "\n"
   ]
  },
  {
   "cell_type": "markdown",
   "metadata": {},
   "source": [
    "### Plot individual children"
   ]
  },
  {
   "cell_type": "code",
   "execution_count": null,
   "metadata": {},
   "outputs": [],
   "source": [
    "# for child plots (no F4)\n",
    "# lpc order = 10\n",
    "\n",
    "child_spkrs = allages.loc[(allages.age_yrs!='adult')]\n",
    "\n",
    "for child in child_spkrs.spkr.unique():\n",
    "    \n",
    "    print(child)\n",
    "        \n",
    "    sub_df = child_spkrs.loc[(child_spkrs.spkr==child)]  # select speaker\n",
    "    \n",
    "    plt.figure(child)\n",
    "    \n",
    "    ax2 = sns.distplot(sub_df[\"f1_midpt_med\"], hist = False, kde = True, kde_kws = {'shade': True, 'linewidth': 3})\n",
    "    sns.distplot(sub_df[\"f2_midpt_med\"], hist = False, kde = True, kde_kws = {'shade': True, 'linewidth': 3},ax=ax2)\n",
    "    sns.distplot(sub_df[\"f3_midpt_med\"], hist = False, kde = True, kde_kws = {'shade': True, 'linewidth': 3},ax=ax2)\n",
    "    \n",
    "    ax2.set(xlabel='Formant frequency (Hz)', ylabel='Probability density')\n",
    "    ax2.text(350,0.001,\"F1\")\n",
    "    ax2.text(1800,0.0003,\"F2\")\n",
    "    ax2.text(3300,0.0004,\"F3\")\n",
    "    c_age = sub_df['age_yrs'].iloc[0] # define child age\n",
    "    label = ''.join([child, ' ', c_age])\n",
    "    ax2.text(3000,0.001, label, fontsize=22)\n"
   ]
  },
  {
   "cell_type": "markdown",
   "metadata": {},
   "source": [
    "### Plot by age group"
   ]
  },
  {
   "cell_type": "code",
   "execution_count": null,
   "metadata": {},
   "outputs": [],
   "source": [
    "# lpc order = 10\n",
    "# all ages\n",
    "for a in allages.age_yrs.unique():\n",
    "    \n",
    "    print(a)\n",
    "        \n",
    "    sub_df = allages.loc[(allages.age_yrs==a)]  # select age group\n",
    "    \n",
    "    plt.figure(a) # to separate the plots (remove if want overlaid)\n",
    "    ax2 = sns.distplot(sub_df[\"f1_midpt_med\"], hist = False, kde = True, kde_kws = {'shade': True, 'linewidth': 3})\n",
    "    sns.distplot(sub_df[\"f2_midpt_med\"], hist = False, kde = True, kde_kws = {'shade': True, 'linewidth': 3},ax=ax2)\n",
    "    sns.distplot(sub_df[\"f3_midpt_med\"], hist = False, kde = True, kde_kws = {'shade': True, 'linewidth': 3},ax=ax2)\n",
    "    \n",
    "    ax2.set(xlabel='Formant frequency (Hz)', ylabel='Probability density')\n",
    "    ax2.text(350,0.001,\"F1\")\n",
    "    ax2.text(1800,0.0003,\"F2\")\n",
    "    ax2.text(3300,0.0004,\"F3\")\n",
    "    ax2.text(3000,0.001,a,fontsize=22)"
   ]
  },
  {
   "cell_type": "markdown",
   "metadata": {},
   "source": [
    "### when lpc=8 for the 4-6 y/os"
   ]
  },
  {
   "cell_type": "code",
   "execution_count": null,
   "metadata": {},
   "outputs": [],
   "source": [
    "# only 5-6 y/os\n",
    "# lpc order = 8\n",
    "# seems to misclassify F3 as F2 because when lpc=8 it only looks for 2 formants\n",
    "for a in lpc8.age_yrs.unique():\n",
    "    \n",
    "    print(a)\n",
    "        \n",
    "    sub_df = lpc8.loc[(lpc8.age_yrs==a)]  # select age group\n",
    "\n",
    "    plt.figure(a) # to separate the plots (remove if want overlaid)\n",
    "    ax2 = sns.distplot(sub_df[\"f1_qrtr_med\"], hist = False, kde = True, kde_kws = {'shade': True, 'linewidth': 3})\n",
    "    sns.distplot(sub_df[\"f2_qrtr_med\"], hist = False, kde = True, kde_kws = {'shade': True, 'linewidth': 3},ax=ax2)\n",
    "\n",
    "    ax2.set(xlabel='Formant frequency (Hz)', ylabel='Probability density')\n",
    "    ax2.text(350,0.001,\"F1\")\n",
    "    ax2.text(1800,0.0003,\"F2\")\n",
    "    ax2.text(3000,0.001,a,fontsize=22)"
   ]
  }
 ],
 "metadata": {
  "kernelspec": {
   "display_name": "Python 3",
   "language": "python",
   "name": "python3"
  },
  "language_info": {
   "codemirror_mode": {
    "name": "ipython",
    "version": 3
   },
   "file_extension": ".py",
   "mimetype": "text/x-python",
   "name": "python",
   "nbconvert_exporter": "python",
   "pygments_lexer": "ipython3",
   "version": "3.8.3"
  }
 },
 "nbformat": 4,
 "nbformat_minor": 2
}
