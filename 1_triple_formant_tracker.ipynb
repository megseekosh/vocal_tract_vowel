{
 "cells": [
  {
   "cell_type": "markdown",
   "metadata": {},
   "source": [
    "# Track formants using esps \"formant\" and ifc \"formant\""
   ]
  },
  {
   "cell_type": "code",
   "execution_count": null,
   "metadata": {},
   "outputs": [],
   "source": [
    "import os, re\n",
    "import subprocess\n",
    "import pandas as pd\n",
    "from phonlab.utils import dir2df\n",
    "import fnmatch"
   ]
  },
  {
   "cell_type": "markdown",
   "metadata": {},
   "source": [
    "# Prepare the metadata and audio dataframes"
   ]
  },
  {
   "cell_type": "markdown",
   "metadata": {},
   "source": [
    "These are directories containing the audio data and caches for the formant trackers on Meg Cychosz's laptop:"
   ]
  },
  {
   "cell_type": "code",
   "execution_count": null,
   "metadata": {},
   "outputs": [],
   "source": [
    "audiodir = '/home/ubuntu/Desktop/Shared/sf_Box_Sync/Diss_data/Fall_2019_LRAP/Word_lists/2018_vowels/2018_data'\n",
    "ifcdir = '/home/ubuntu/Desktop/Shared/sf_Box_Sync/Diss_data/Fall_2019_LRAP/Word_lists/2018_vowels/2018_data/formants_ifc'  # For ifcformant output files\n",
    "covdir = '/home/ubuntu/Desktop/Shared/sf_Box_Sync/Diss_data/Fall_2019_LRAP/Word_lists/2018_vowels/2018_data/formants_cov'  # For covariance method output files\n",
    "acdir = '/home/ubuntu/Desktop/Shared/sf_Box_Sync/Diss_data/Fall_2019_LRAP/Word_lists/2018_vowels/2018_data/formants_ac'    # For autocorrelation method output files\n",
    "\n",
    "# directories to place data from lower lpc orders:\n",
    "#covdir_lpc8 = '/home/ubuntu/Desktop/Shared/sf_Box_Sync/Diss_data/Fall_2019_LRAP/Word_lists/2018_vowels/2018_data/formants_cov_lpcorder_8' # For covariance method output files of 4-6 y/os that are run with lpc order=8\n",
    "#acdir_lpc8 = '/home/ubuntu/Desktop/Shared/sf_Box_Sync/Diss_data/Fall_2019_LRAP/Word_lists/2018_vowels/2018_data/formants_ac_lpcorder_8' # for autocorrelation method output files of 4-6 y/os that are run with lpc order=8"
   ]
  },
  {
   "cell_type": "markdown",
   "metadata": {},
   "source": [
    "Load in participant metadata:"
   ]
  },
  {
   "cell_type": "code",
   "execution_count": null,
   "metadata": {},
   "outputs": [],
   "source": [
    "md = pd.read_csv('~/Desktop/Shared/sf_Box_Sync/Diss_data/Fall_2019_LRAP/Word_lists/speaker_metadata.csv')\n",
    "md.head()"
   ]
  },
  {
   "cell_type": "markdown",
   "metadata": {},
   "source": [
    "Add lpc parameters based on speaker type. These are strings because they are command line arguments."
   ]
  },
  {
   "cell_type": "code",
   "execution_count": null,
   "metadata": {},
   "outputs": [],
   "source": [
    "# lpc order only needs to be specified for esps functions, not ifc\n",
    "\n",
    "# where lpc order = (#formants*2) + 2\n",
    "# it wouldn't surprise me if the child lpcorder/#formants parameters fail as currently specified - there might be a minimum of 10\n",
    "lpcargs = pd.DataFrame.from_records([\n",
    "    ('adult', '4', '12', '600'),\n",
    "    ('10',  '3', '10', '700'),\n",
    "    ('9',  '3', '10', '700'),\n",
    "    ('8',  '3', '10', '700'),\n",
    "    ('7',  '3', '10', '700'),\n",
    "    ('6',  '3', '10', '700'), # adjust the #formants and lpc order here\n",
    "    ('5', '3', '10', '700'),\n",
    "    ('4', '3', '10', '700')\n",
    "\n",
    "], columns=['age_yrs', 'num_form', 'lpc_order', 'nom_f1'])\n",
    "lpcargs"
   ]
  },
  {
   "cell_type": "markdown",
   "metadata": {},
   "source": [
    "put it all together:"
   ]
  },
  {
   "cell_type": "code",
   "execution_count": null,
   "metadata": {},
   "outputs": [],
   "source": [
    "md_merged = md.merge(lpcargs, on='age_yrs', how='left')\n",
    "md_merged.head()"
   ]
  },
  {
   "cell_type": "markdown",
   "metadata": {},
   "source": [
    "Now load in the audio files:"
   ]
  },
  {
   "cell_type": "code",
   "execution_count": null,
   "metadata": {},
   "outputs": [],
   "source": [
    "fnpat = '^(?P<spkr>[^_]+)_(?P<age_yrs>\\d+|adult)_(?P<task>.+)\\.wav$' # filenames\n",
    "\n",
    "\n",
    "wavdf = dir2df(\n",
    "    audiodir,\n",
    "    fnpat=fnpat,\n",
    "    addcols=['dirname', 'barename', 'ext']   # addcols spits out relevant file names\n",
    ")\n",
    "wavdf.head()"
   ]
  },
  {
   "cell_type": "markdown",
   "metadata": {},
   "source": [
    "Merge audio files with metadata:"
   ]
  },
  {
   "cell_type": "code",
   "execution_count": null,
   "metadata": {},
   "outputs": [],
   "source": [
    "wavdf = wavdf.merge(\n",
    "    md_merged,\n",
    "    on=['spkr', 'age_yrs'], # merge both of these columns\n",
    "    how='left'\n",
    ")"
   ]
  },
  {
   "cell_type": "markdown",
   "metadata": {},
   "source": [
    "# Identify which participants don't have ifc tracking already"
   ]
  },
  {
   "cell_type": "markdown",
   "metadata": {},
   "source": [
    "First see if we have any exisiting ifc files in the cache so that we don't have to run them again. "
   ]
  },
  {
   "cell_type": "code",
   "execution_count": null,
   "metadata": {},
   "outputs": [],
   "source": [
    "ifcdf = dir2df(ifcdir, addcols=['dirname', 'barename', 'ext'])"
   ]
  },
  {
   "cell_type": "markdown",
   "metadata": {},
   "source": [
    "Merge the ifc file information with our metadata file to identify participants who are missing tracking information. Their ifc information will just come out as NaN. "
   ]
  },
  {
   "cell_type": "code",
   "execution_count": null,
   "metadata": {},
   "outputs": [],
   "source": [
    "ifcdf = wavdf.merge(\n",
    "    ifcdf,\n",
    "    left_on=['barename'],\n",
    "    right_on=['barename'],\n",
    "    suffixes=['', '_ifc'],  # suffix _ifc instead of _y for duplicated columns\n",
    "    how='left'\n",
    ")\n",
    "ifcdf.head()"
   ]
  },
  {
   "cell_type": "markdown",
   "metadata": {},
   "source": [
    "Select those rows that don't have formant measurements yet (NaN values). We'll see a snippet of that resulting dataframe here:"
   ]
  },
  {
   "cell_type": "code",
   "execution_count": null,
   "metadata": {},
   "outputs": [],
   "source": [
    "missingifc = ifcdf[ifcdf.fname_ifc.isnull()]\n",
    "missingifc.dirname_ifc = ifcdir\n",
    "missingifc.fname_ifc = [x + '.ifc' for x in missingifc.barename]\n",
    "missingifc.head()"
   ]
  },
  {
   "cell_type": "markdown",
   "metadata": {},
   "source": [
    "missingifc.relpath.values"
   ]
  },
  {
   "cell_type": "markdown",
   "metadata": {},
   "source": [
    "# Actually ready to track some formants"
   ]
  },
  {
   "cell_type": "markdown",
   "metadata": {},
   "source": [
    "Get the rows from missingifc to use as input for ifcformant. Save the output to the cache directory. The run_ifcformant function uses subprocess to execute ifcformant on the values contained in the rows. Here we define that function:"
   ]
  },
  {
   "cell_type": "code",
   "execution_count": null,
   "metadata": {},
   "outputs": [],
   "source": [
    "def run_ifcformant(row, errors='raise'):\n",
    "    '''Perform formant analysis with the ifcformant command.\n",
    "    \n",
    "    Parameters\n",
    "    ----------\n",
    "    \n",
    "    row : namedtuple that contains formant analysis parameters\n",
    "          in fields:\n",
    "        'dirname' (base pathname to input .wav file),\n",
    "        'relpath' (relative path to audio file from dirname - not currently needed),\n",
    "        'fname' (name of .wav file),\n",
    "        'barename' (name of .wav file without extension)\n",
    "        'age' (ifcformant speaker type, one of 'female',\n",
    "            'male', 'child')\n",
    "        'dirname_ifc' (base cache directory name),\n",
    "        'fname_ifc' (name of output .ifc file),\n",
    "             \n",
    "    errors : str (default 'raise')\n",
    "        How to handle errors if `check_call()` fails. If\n",
    "        'ignore', print debug statement to STDERR and return the\n",
    "        ifcformant return code; if 'raise' immediately reraise\n",
    "        the CalledProcessError.\n",
    "        \n",
    "    Returns\n",
    "    -------\n",
    "    \n",
    "    The `ifcformant` return code is returned by this function,\n",
    "    0 for success or non-zero for errors.\n",
    "    '''\n",
    "    try:\n",
    "        subprocess.check_call([\n",
    "            \"ifcformant\",\n",
    "            \"--speaker\", row.age,    # female, male, or child\n",
    "            \"--print-header\",\n",
    "            \"--output\", os.path.join(row.dirname_ifc, row.relpath, row.fname_ifc),\n",
    "            os.path.join(row.dirname, row.relpath, row.fname)\n",
    "        ])\n",
    "    except subprocess.CalledProcessError as e:\n",
    "        if errors == 'ignore':\n",
    "            msg = 'Caught error while invoking ifcformant:\\n{:}'.format(e)\n",
    "            sys.stderr.write(msg)\n",
    "            return e.returncode\n",
    "        else:\n",
    "            raise e\n",
    "    return 0"
   ]
  },
  {
   "cell_type": "markdown",
   "metadata": {},
   "source": [
    "Before calling the run_ifcformant function, we check that the appropriate output directories in the cache directory are created. We create these by looping over the unique relpath values in missingifc and concatenating these with the base cache directory name found in ifcdir, then calling os.makedirs(). This is only relevant if subjects have their own directories, for example. "
   ]
  },
  {
   "cell_type": "code",
   "execution_count": null,
   "metadata": {},
   "outputs": [],
   "source": [
    "#for cdir in missingifc.relpath.unique():\n",
    "#    os.makedirs(os.path.join(ifcdir, cdir), exist_ok=True)"
   ]
  },
  {
   "cell_type": "markdown",
   "metadata": {},
   "source": [
    "Actually run the function. This will loop over all of the rows in the missingifc dataframe. "
   ]
  },
  {
   "cell_type": "code",
   "execution_count": null,
   "metadata": {},
   "outputs": [],
   "source": [
    "for row in missingifc.itertuples(): # add print message\n",
    "    run_ifcformant(row)"
   ]
  },
  {
   "cell_type": "markdown",
   "metadata": {},
   "source": [
    "Sanity check. Now when we reload filenames in the ifcformant cache directory, they should produce new files:"
   ]
  },
  {
   "cell_type": "code",
   "execution_count": null,
   "metadata": {},
   "outputs": [],
   "source": [
    "ifcdf = dir2df(ifcdir, addcols=['barename', 'dirname', 'ext'])\n",
    "ifcdf.head()"
   ]
  },
  {
   "cell_type": "markdown",
   "metadata": {},
   "source": [
    "# Define LPC covariance and autocorrelation tracking methods:"
   ]
  },
  {
   "cell_type": "markdown",
   "metadata": {},
   "source": [
    "ESPS formant commands used. The tracking method - covariance or autocorrelation - can be selected with the lpc_type parameter. The other analysis parameters, lpc_order and nom_f1, are already included in wavdf and will be passed as part of a dataframe row."
   ]
  },
  {
   "cell_type": "code",
   "execution_count": null,
   "metadata": {},
   "outputs": [],
   "source": [
    "def run_formant(row, lpc_type, errors='raise'):\n",
    "    '''\n",
    "    Run ESPS formant command with covariance or autocorrelation settings.\n",
    "    \n",
    "    Parameters\n",
    "    ----------\n",
    "    \n",
    "    row : namedtuple that contains formant analysis parameters\n",
    "          in fields:\n",
    "        'dirname' (base pathname to input .wav file),\n",
    "        'relpath' (relative path to audio file from dirname),\n",
    "        'fname' (name of .wav file),\n",
    "        'lpc_order' (order of lpc analysis)\n",
    "        'nom_f1' (nominal value of first formant frequency, in Hz)\n",
    "        'dirname_out' (base cache directory name) - currently missing this\n",
    "        \n",
    "    lpc_type : str ('cov' for covariance or 'ac' for autocorrelation)\n",
    "             \n",
    "    errors : str (default 'raise')\n",
    "        How to handle errors if `check_call()` fails. If\n",
    "        'ignore', print debug statement to STDERR and return the\n",
    "        ifcformant return code; if 'raise' immediately reraise\n",
    "        the CalledProcessError.\n",
    "        \n",
    "    Returns\n",
    "    -------\n",
    "    \n",
    "    The `formant` return code is returned by this function,\n",
    "    0 for success or non-zero for errors.\n",
    "    '''\n",
    "    bytes = '317520000'\n",
    "    if lpc_type == 'cov':\n",
    "        wdur = '0.025'\n",
    "        lpc_opt = '-t1'\n",
    "    elif lpc_type == 'ac':\n",
    "        wdur = '0.049'\n",
    "        lpc_opt = '-t0'\n",
    "    try:\n",
    "        subprocess.check_call([\n",
    "            \"formant\",\n",
    "            \"-n\", row.num_form,\n",
    "            \"-o\", row.lpc_order,\n",
    "            \"-N\", row.nom_f1,\n",
    "            lpc_opt,\n",
    "            \"-w\", wdur,\n",
    "            \"-O\", os.path.join(row.dirname_out),\n",
    "             os.path.join(row.dirname, row.fname),\n",
    "            \"-B\", bytes\n",
    "        ])\n",
    "\n",
    "        \n",
    "          #\"--output\", os.path.join(row.dirname_ifc, row.relpath, row.fname_ifc),\n",
    "          #  os.path.join(row.dirname, row.relpath, row.fname)\n",
    "            \n",
    "    except subprocess.CalledProcessError as e:\n",
    "        if errors == 'ignore':\n",
    "            msg = 'Caught error while invoking formant:\\n{:}'.format(e)\n",
    "            sys.stderr.write(msg)\n",
    "            return e.returncode\n",
    "        else:\n",
    "            raise e\n",
    "    return 0"
   ]
  },
  {
   "cell_type": "code",
   "execution_count": null,
   "metadata": {},
   "outputs": [],
   "source": [
    "# Load cached covariance .fb files - this will be empty the first time it's run\n",
    "covdf = dir2df(covdir, fnpat='\\.fb$', addcols=['barename', 'dirname', 'ext'])"
   ]
  },
  {
   "cell_type": "code",
   "execution_count": null,
   "metadata": {},
   "outputs": [],
   "source": [
    "# Merge covariance df with `wavdf`\n",
    "covdf = wavdf.merge(\n",
    "    covdf,\n",
    "    left_on=['barename'],\n",
    "    right_on=['barename'],\n",
    "    suffixes=['', '_out'],  # suffix _ifc instead of _y for duplicated columns\n",
    "    how='left'\n",
    ")\n",
    "covdf.head()"
   ]
  },
  {
   "cell_type": "code",
   "execution_count": null,
   "metadata": {},
   "outputs": [],
   "source": [
    "# Find missing cached covariance files - who hasn't been run yet?\n",
    "missingcov = covdf[covdf.fname_out.isnull()]\n",
    "missingcov.dirname_out = covdir\n",
    "missingcov.fname_out = [x + '.cov' for x in missingcov.barename]\n",
    "missingcov.head()"
   ]
  },
  {
   "cell_type": "code",
   "execution_count": null,
   "metadata": {},
   "outputs": [],
   "source": [
    "# make sure that ESPS parameters are strings, not integers \n",
    "missingcov['lpc_order'] = missingcov['lpc_order'].astype(str)\n",
    "missingcov['num_form'] = missingcov['num_form'].astype(str)\n",
    "missingcov['nom_f1'] = missingcov['nom_f1'].astype(str)"
   ]
  },
  {
   "cell_type": "code",
   "execution_count": null,
   "metadata": {},
   "outputs": [],
   "source": [
    "# Ensure output directories are created. - this is only relevant when subjects each have their own directories\n",
    "#for cdir in missingcov.relpath.unique():\n",
    "#    os.makedirs(os.path.join(covdir, cdir), exist_ok=True)"
   ]
  },
  {
   "cell_type": "code",
   "execution_count": null,
   "metadata": {},
   "outputs": [],
   "source": [
    "# option to subset only 4, 5, 6-year olds\n",
    "# to run lpc order=8 on them\n",
    "#missingcov = missingcov[missingcov.age_yrs.isin(['4', '5', '6'])]\n",
    "#missingcov"
   ]
  },
  {
   "cell_type": "code",
   "execution_count": null,
   "metadata": {},
   "outputs": [],
   "source": [
    "# Option 1: Run formant command with covariance method.\n",
    "for row in missingcov.itertuples(): # regular lpc\n",
    "    run_formant(row, 'cov')"
   ]
  },
  {
   "cell_type": "code",
   "execution_count": null,
   "metadata": {},
   "outputs": [],
   "source": [
    "# Check your work.\n",
    "covdf = dir2df(covdir, fnpat='\\.fb$', addcols=['barename', 'dirname', 'ext'])\n",
    "covdf.head()"
   ]
  },
  {
   "cell_type": "code",
   "execution_count": null,
   "metadata": {},
   "outputs": [],
   "source": [
    "# Option 2: Autocorrelation method\n",
    "# Load cached autocorrelation .fb files - again, this df will be empty the first time you run it\n",
    "acdf = dir2df(acdir, fnpat='\\.fb$', addcols=['barename', 'dirname', 'ext'])\n",
    "acdf"
   ]
  },
  {
   "cell_type": "code",
   "execution_count": null,
   "metadata": {},
   "outputs": [],
   "source": [
    "# Merge with `wavdf`\n",
    "acdf = wavdf.merge(\n",
    "    acdf,\n",
    "    left_on=['barename'],\n",
    "    right_on=['barename'],\n",
    "    suffixes=['', '_out'],\n",
    "    how='left'\n",
    ")\n",
    "acdf.head()"
   ]
  },
  {
   "cell_type": "code",
   "execution_count": null,
   "metadata": {},
   "outputs": [],
   "source": [
    "# Find missing cached autocorrelation files.\n",
    "missingac = acdf[acdf.fname_out.isnull()]\n",
    "missingac.dirname_out = acdir\n",
    "missingac.fname_out = [x + '.ac' for x in missingac.barename]\n",
    "missingac.head()"
   ]
  },
  {
   "cell_type": "code",
   "execution_count": null,
   "metadata": {},
   "outputs": [],
   "source": [
    "# make sure that ESPS parameters are strings, not integers \n",
    "#missingac['lpc_order'] = missingac['lpc_order'].astype(str)\n",
    "#missingac['num_form'] = missingac['num_form'].astype(str)\n",
    "#missingac['nom_f1'] = missingac['nom_f1'].astype(str)"
   ]
  },
  {
   "cell_type": "code",
   "execution_count": null,
   "metadata": {},
   "outputs": [],
   "source": [
    "# option to subset only 4, 5, 6-year olds\n",
    "# to run lpc order=8 on them\n",
    "#missingac = missingac[missingac.age_yrs.isin(['4', '5', '6'])]\n",
    "#missingac"
   ]
  },
  {
   "cell_type": "code",
   "execution_count": null,
   "metadata": {},
   "outputs": [],
   "source": [
    "# Ensure output directories are created. - only relevant when subjects are organized into individual directories\n",
    "#for cdir in missingac.relpath.unique():\n",
    "#    os.makedirs(os.path.join(acdir, cdir), exist_ok=True)"
   ]
  },
  {
   "cell_type": "code",
   "execution_count": null,
   "metadata": {},
   "outputs": [],
   "source": [
    "# Run formant command with autocorrelation method. \n",
    "for row in missingac.itertuples():\n",
    "    run_formant(row, 'ac')"
   ]
  },
  {
   "cell_type": "code",
   "execution_count": null,
   "metadata": {},
   "outputs": [],
   "source": [
    "# Check your work.\n",
    "acdf = dir2df(acdir, fnpat='\\.fb$', addcols=['barename', 'dirname', 'ext'])\n",
    "acdf.head()"
   ]
  }
 ],
 "metadata": {
  "kernelspec": {
   "display_name": "Python 3",
   "language": "python",
   "name": "python3"
  },
  "language_info": {
   "codemirror_mode": {
    "name": "ipython",
    "version": 3
   },
   "file_extension": ".py",
   "mimetype": "text/x-python",
   "name": "python",
   "nbconvert_exporter": "python",
   "pygments_lexer": "ipython3",
   "version": "3.8.3"
  }
 },
 "nbformat": 4,
 "nbformat_minor": 2
}
