{
 "cells": [
  {
   "cell_type": "markdown",
   "metadata": {},
   "source": [
    "# calculate vocal tract lengths, deltaf, and formant ratios\n",
    "Meg Cychosz & Keith Johnson"
   ]
  },
  {
   "cell_type": "markdown",
   "metadata": {},
   "source": [
    "Note that this script is now sewn into 2b_vtl_results.Rmd"
   ]
  },
  {
   "cell_type": "code",
   "execution_count": null,
   "metadata": {},
   "outputs": [],
   "source": [
    "import os, sys, fnmatch\n",
    "import re\n",
    "import pandas as pd\n",
    "from sys import argv\n",
    "import numpy as np\n",
    "#import seaborn as sns\n",
    "import matplotlib.pyplot as plt"
   ]
  },
  {
   "cell_type": "code",
   "execution_count": null,
   "metadata": {},
   "outputs": [],
   "source": [
    "# read in data\n",
    "formants = pd.read_csv('/Users/Meg/Box Sync/Dissertation/Experiment_1/analysis/analysis_scripts/cleaned_vowels.csv') # all formants from all speakers"
   ]
  },
  {
   "cell_type": "code",
   "execution_count": null,
   "metadata": {},
   "outputs": [],
   "source": [
    "def get_vtl(s):\n",
    "    deltaf = (np.mean(s.f1_midpt_med)/0.5 + \n",
    "              np.mean(s.f2_midpt_med)/1.5 + \n",
    "              np.mean(s.f3_midpt_med)/2.5 + \n",
    "              np.mean(s.f4_midpt_med)/3.5)/4\n",
    "    vtl = 34000/(2*deltaf)\n",
    "\n",
    "    # Here is the Lammert & Narayanan formula:  229 + 0.03F1 + 0.082*F2/3 + 0.124*F3/5 + 0.354*F4/7\n",
    "    #phi = 229 + 0.030*np.mean(d.f1) + 0.02733*np.mean(d.f2) + 0.0248*np.mean(d.f3) + 0.05057*np.mean(d.f4)\n",
    "    #vtl = 34000/(4*phi)\n",
    "    #deltaf = phi*2\n",
    "    \n",
    "    return deltaf,vtl"
   ]
  },
  {
   "cell_type": "markdown",
   "metadata": {},
   "source": [
    "### perform calculation for adults where we have F1-F4"
   ]
  },
  {
   "cell_type": "code",
   "execution_count": null,
   "metadata": {},
   "outputs": [],
   "source": [
    "adults = formants.loc[(formants.age_yrs=='adult')]\n",
    "\n",
    "slist = []\n",
    "deltaf_list = []\n",
    "vtl_list = []\n",
    "\n",
    "for speaker in adults.spkr.unique():\n",
    "            \n",
    "    sub_df = adults.loc[(adults.spkr==speaker)]  # select speaker\n",
    "    \n",
    "    get_vtl(sub_df) # where sub_df is the data for an individual speaker\n",
    "    \n",
    "    slist.append(speaker)\n",
    "    deltaf_list.append(get_vtl(sub_df)[0])\n",
    "    vtl_list.append(get_vtl(sub_df)[1])\n",
    "    \n",
    "# put lists together\n",
    "adult_calculations = pd.DataFrame(\n",
    "    {'spkr': slist, \n",
    "     'deltaf': deltaf_list, \n",
    "     'vtl': vtl_list\n",
    "    })\n",
    "\n",
    "# merge calculation results with original data\n",
    "adult_results = pd.merge(adults, adult_calculations, on='spkr')\n",
    "adult_results.head()"
   ]
  },
  {
   "cell_type": "markdown",
   "metadata": {},
   "source": [
    "### Now do the same for children, but just using F1-F3"
   ]
  },
  {
   "cell_type": "code",
   "execution_count": null,
   "metadata": {},
   "outputs": [],
   "source": [
    "def get_vtl_child(s):\n",
    "    deltaf = (np.mean(s.f1_midpt_med)/0.5 + np.mean(s.f2_midpt_med)/1.5 + np.mean(s.f3_midpt_med)/2.5)/3\n",
    "    vtl = 34000/(2*deltaf)\n",
    "\n",
    "    # Here is the Lammert & Narayanan formula:  229 + 0.03F1 + 0.082*F2/3 + 0.124*F3/5 + 0.354*F4/7\n",
    "    #phi = 229 + 0.030*np.mean(d.f1) + 0.02733*np.mean(d.f2) + 0.0248*np.mean(d.f3) + 0.05057*np.mean(d.f4)\n",
    "    #vtl = 34000/(4*phi)\n",
    "    #deltaf = phi*2\n",
    "    \n",
    "    return deltaf,vtl"
   ]
  },
  {
   "cell_type": "code",
   "execution_count": null,
   "metadata": {},
   "outputs": [],
   "source": [
    "children = formants.loc[(formants.age_yrs!='adult')]\n",
    "\n",
    "cslist = []\n",
    "cdeltaf_list = []\n",
    "cvtl_list = []\n",
    "\n",
    "for speaker in children.spkr.unique():\n",
    "            \n",
    "    sub_df = children.loc[(children.spkr==speaker)]  # select speaker\n",
    "    \n",
    "    get_vtl_child(sub_df) # where sub_df is the data for an individual speaker\n",
    "        \n",
    "    cslist.append(speaker)\n",
    "    cdeltaf_list.append(get_vtl_child(sub_df)[0]) # and append speaker at the same time\n",
    "    cvtl_list.append(get_vtl_child(sub_df)[1])\n",
    "\n",
    "    \n",
    "# put lists together\n",
    "child_calculations = pd.DataFrame(\n",
    "    {'spkr': cslist, \n",
    "     'deltaf': cdeltaf_list, \n",
    "     'vtl': cvtl_list\n",
    "    })\n",
    "\n",
    "# merge calculation results with original data\n",
    "child_results = pd.merge(children, child_calculations, on='spkr')"
   ]
  },
  {
   "cell_type": "markdown",
   "metadata": {},
   "source": [
    "# Measure cavity ratios and pharynx length"
   ]
  },
  {
   "cell_type": "code",
   "execution_count": null,
   "metadata": {},
   "outputs": [],
   "source": [
    "### First define a function to calculate the ratios of back cavity length\n",
    "# to front cavity length\n",
    "# we also measure F2 of [i] which is a standing wave in the pharynx\n",
    "# and thus an indicator of pharynx length (in reality this measure of \n",
    "# pharynx length didn't work very well)\n",
    "\n",
    "def get_bcl(s): \n",
    "    a_f1f2_ratio = (np.mean(s.f1_midpt_med[(s.Phone=='a')])) / (np.mean(s.f2_midpt_med[(s.Phone=='a')])) \n",
    "    a_f2f3_ratio = (np.mean(s.f2_midpt_med[(s.Phone=='a')])) / (np.mean(s.f3_midpt_med[(s.Phone=='a')]))\n",
    "    i_f1f2_ratio = (np.mean(s.f1_midpt_med[(s.Phone=='i')])) / (np.mean(s.f2_midpt_med[(s.Phone=='i')]))\n",
    "    i_f2f3_ratio = (np.mean(s.f2_midpt_med[(s.Phone=='i')])) / (np.mean(s.f3_midpt_med[(s.Phone=='i')]))\n",
    "    u_f2f3_ratio = (np.mean(s.f2_midpt_med[(s.Phone=='u')])) / (np.mean(s.f3_midpt_med[(s.Phone=='u')]))\n",
    "    u_f1f3_ratio = (np.mean(s.f1_midpt_med[(s.Phone=='u')])) / (np.mean(s.f3_midpt_med[(s.Phone=='u')])) \n",
    "    return  a_f1f2_ratio,a_f2f3_ratio,i_f1f2_ratio,i_f2f3_ratio,u_f2f3_ratio,u_f1f3_ratio \n",
    "def get_pl(s):\n",
    "    phar_length = (3*34000) / (np.mean(s.f2_midpt_med)*4)\n",
    "    return phar_length"
   ]
  },
  {
   "cell_type": "code",
   "execution_count": null,
   "metadata": {},
   "outputs": [],
   "source": [
    "# now calculate the ratios between formants for each speaker\n",
    "# later, we'll use the ratios, by phone, to predict who is more child-like,\n",
    "# and who is more adult-like, in their articulatory strategies\n",
    "\n",
    "bcslist = [] # speaker list\n",
    "a_f1f2_list = []\n",
    "a_f2f3_list = []\n",
    "i_f1f2_list = []\n",
    "i_f2f3_list = []\n",
    "u_f2f3_list = []\n",
    "u_f1f3_list = []\n",
    "\n",
    "\n",
    "for speaker in formants.spkr.unique():\n",
    "            \n",
    "    sub_df = formants.loc[(formants.spkr==speaker)]  # select speaker\n",
    "    \n",
    "    get_bcl(sub_df) # where sub_df is the data for an individual speaker\n",
    "        \n",
    "    bcslist.append(speaker)\n",
    "    a_f1f2_list.append(get_bcl(sub_df)[0])\n",
    "    a_f2f3_list.append(get_bcl(sub_df)[1])\n",
    "    i_f1f2_list.append(get_bcl(sub_df)[2])\n",
    "    i_f2f3_list.append(get_bcl(sub_df)[3])\n",
    "    u_f2f3_list.append(get_bcl(sub_df)[4])\n",
    "    u_f1f3_list.append(get_bcl(sub_df)[5])\n",
    "\n",
    "# put lists together\n",
    "bcl_calculations = pd.DataFrame(\n",
    "    {'spkr': bcslist, \n",
    "     'a_ratiof1f2': a_f1f2_list,\n",
    "     'a_ratiof2f3': a_f2f3_list,\n",
    "     'i_ratiof1f2': i_f1f2_list,\n",
    "     'i_ratiof2f3': i_f2f3_list,\n",
    "     'u_ratiof2f3': u_f2f3_list,\n",
    "     'u_ratiof1f3': u_f1f3_list\n",
    "    })"
   ]
  },
  {
   "cell_type": "code",
   "execution_count": null,
   "metadata": {},
   "outputs": [],
   "source": [
    "# now calculate length of pharynx using F2 of [i]\n",
    "# pharyngeal cavity should grow with age, and \n",
    "# the ratio of pharynx:vtl should get larger with age\n",
    "# as pharynx grows faster than oral cavity\n",
    "\n",
    "ees = formants.loc[(formants.Phone=='i')]\n",
    "\n",
    "plslist = []\n",
    "pl_list = []\n",
    "\n",
    "for speaker in ees.spkr.unique():\n",
    "            \n",
    "    sub_df = ees.loc[(ees.spkr==speaker)]  # select speaker\n",
    "    \n",
    "    get_pl(sub_df) # where sub_df is the data for an individual speaker\n",
    "        \n",
    "    plslist.append(speaker)\n",
    "    pl_list.append(get_pl(sub_df)) # and append speaker at the same time\n",
    "\n",
    "# put lists together\n",
    "pl_calculations = pd.DataFrame(\n",
    "    {'spkr': plslist, \n",
    "     'phar_length': pl_list \n",
    "    })\n",
    "\n",
    "# and combine with cavity ratio results\n",
    "cavity_results = pd.merge(pl_calculations, bcl_calculations, on='spkr')"
   ]
  },
  {
   "cell_type": "code",
   "execution_count": null,
   "metadata": {},
   "outputs": [],
   "source": [
    "# combine adult and child vtl results\n",
    "almost_final_results = pd.concat([child_results, adult_results])\n",
    "\n",
    "# combine those results with bcl results\n",
    "final_results = pd.merge(almost_final_results, cavity_results, on='spkr')"
   ]
  },
  {
   "cell_type": "code",
   "execution_count": null,
   "metadata": {},
   "outputs": [],
   "source": [
    "# spit out measurements\n",
    "final_results.to_csv('/Users/Meg/Box Sync/Dissertation/Experiment_1/analysis/analysis_scripts/formants_vtlength.csv', index=False, header=True)"
   ]
  },
  {
   "cell_type": "code",
   "execution_count": null,
   "metadata": {},
   "outputs": [],
   "source": [
    "final_results.head()"
   ]
  }
 ],
 "metadata": {
  "kernelspec": {
   "display_name": "Python 3",
   "language": "python",
   "name": "python3"
  },
  "language_info": {
   "codemirror_mode": {
    "name": "ipython",
    "version": 3
   },
   "file_extension": ".py",
   "mimetype": "text/x-python",
   "name": "python",
   "nbconvert_exporter": "python",
   "pygments_lexer": "ipython3",
   "version": "3.7.6"
  }
 },
 "nbformat": 4,
 "nbformat_minor": 2
}
